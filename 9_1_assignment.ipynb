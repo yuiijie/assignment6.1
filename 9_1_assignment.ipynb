{
  "cells": [
    {
      "cell_type": "markdown",
      "metadata": {
        "id": "view-in-github",
        "colab_type": "text"
      },
      "source": [
        "<a href=\"https://colab.research.google.com/github/yuiijie/assignment6.1/blob/main/9_1_assignment.ipynb\" target=\"_parent\"><img src=\"https://colab.research.google.com/assets/colab-badge.svg\" alt=\"Open In Colab\"/></a>"
      ]
    },
    {
      "cell_type": "markdown",
      "metadata": {
        "id": "oY7M_WqQy7zz"
      },
      "source": [
        "# Assignment 9.1\n",
        "\n",
        "> Replace all TODOs with your code. Do not change any other code."
      ]
    },
    {
      "cell_type": "code",
      "execution_count": 2,
      "metadata": {
        "id": "bymolQyG6lVT"
      },
      "outputs": [],
      "source": [
        "# Do not edit this cell\n",
        "\n",
        "import numpy as np\n",
        "import pandas as pd"
      ]
    },
    {
      "cell_type": "markdown",
      "metadata": {
        "id": "Jz8SYjAz0N8D"
      },
      "source": [
        "## Numpy"
      ]
    },
    {
      "cell_type": "markdown",
      "metadata": {
        "id": "IHwd1Zzby7z1"
      },
      "source": [
        "### Task 1\n",
        "\n",
        "Create a 1D numpy array with elements [1, 2, 3, 4, 5]. Do it in two different ways.\n"
      ]
    },
    {
      "cell_type": "code",
      "execution_count": 3,
      "metadata": {
        "id": "UfB0dnXHy7z2",
        "tags": [
          "task_1a"
        ],
        "colab": {
          "base_uri": "https://localhost:8080/"
        },
        "outputId": "43f61215-1743-4a46-88b0-2605e479c6f2"
      },
      "outputs": [
        {
          "output_type": "stream",
          "name": "stdout",
          "text": [
            "[1 2 3 4 5]\n"
          ]
        }
      ],
      "source": [
        "res = np.array([1, 2, 3, 4, 5])\n",
        "\n",
        "print(res)"
      ]
    },
    {
      "cell_type": "code",
      "execution_count": 4,
      "metadata": {
        "id": "VtHGOji2zOfq",
        "tags": [
          "task_1b"
        ],
        "colab": {
          "base_uri": "https://localhost:8080/"
        },
        "outputId": "f7826885-2144-4b91-9da8-dde552bc12b6"
      },
      "outputs": [
        {
          "output_type": "stream",
          "name": "stdout",
          "text": [
            "[1 2 3 4 5]\n"
          ]
        }
      ],
      "source": [
        "res2 = np.arange(1, 6)\n",
        "\n",
        "print(res2)"
      ]
    },
    {
      "cell_type": "markdown",
      "metadata": {
        "id": "lL-ELM-Ay7z2"
      },
      "source": [
        "### Task 2\n",
        "\n",
        "Create a 2D numpy array with shape (3, 5) filled with random integers between 1 and 100."
      ]
    },
    {
      "cell_type": "code",
      "execution_count": 5,
      "metadata": {
        "id": "cibiSsjry7z3",
        "tags": [
          "task_2"
        ],
        "colab": {
          "base_uri": "https://localhost:8080/"
        },
        "outputId": "6f674772-d561-4aec-fdd8-d8eb07111712"
      },
      "outputs": [
        {
          "output_type": "stream",
          "name": "stdout",
          "text": [
            "[[56 63  6 47 88]\n",
            " [12 33 98 86 90]\n",
            " [61 43 89 97 97]]\n"
          ]
        }
      ],
      "source": [
        "res3 = np.random.randint(1, 100, size=(3, 5))\n",
        "\n",
        "print(res3)"
      ]
    },
    {
      "cell_type": "markdown",
      "metadata": {
        "id": "Iagg2Xez6lVk"
      },
      "source": [
        "### Task 3\n",
        "\n",
        "Print the first row of array `res3`."
      ]
    },
    {
      "cell_type": "code",
      "execution_count": 6,
      "metadata": {
        "tags": [
          "task_3"
        ],
        "id": "0Ug49s5l6lVm",
        "colab": {
          "base_uri": "https://localhost:8080/"
        },
        "outputId": "03c8c1cf-3202-4113-9172-507089ab6230"
      },
      "outputs": [
        {
          "output_type": "stream",
          "name": "stdout",
          "text": [
            "[[56 63  6 47 88]]\n"
          ]
        }
      ],
      "source": [
        "print(res3[:1])"
      ]
    },
    {
      "cell_type": "markdown",
      "metadata": {
        "id": "L-qS4zMn6lVn"
      },
      "source": [
        "### Task 4\n",
        "\n",
        "Access the last column of array `res3`. Assume that the array may be of any 2D shape."
      ]
    },
    {
      "cell_type": "code",
      "execution_count": 7,
      "metadata": {
        "tags": [
          "task_4"
        ],
        "id": "XLdVpV8P6lVo",
        "colab": {
          "base_uri": "https://localhost:8080/"
        },
        "outputId": "3d344d10-419c-4a09-af0a-9c0fad5ac14d"
      },
      "outputs": [
        {
          "output_type": "stream",
          "name": "stdout",
          "text": [
            "[88 90 97]\n"
          ]
        }
      ],
      "source": [
        "print(res3[:, -1])"
      ]
    },
    {
      "cell_type": "markdown",
      "metadata": {
        "id": "saWNjvtKy7z3"
      },
      "source": [
        "### Task 5\n",
        "\n",
        "Find the min, max, and sum of elements of the second column of array `res3`."
      ]
    },
    {
      "cell_type": "code",
      "execution_count": 8,
      "metadata": {
        "id": "V0T9Dybqy7z3",
        "tags": [
          "task_5a"
        ],
        "colab": {
          "base_uri": "https://localhost:8080/"
        },
        "outputId": "3e3b7a3a-b303-4d51-a777-2b9ac887fea1"
      },
      "outputs": [
        {
          "output_type": "stream",
          "name": "stdout",
          "text": [
            "min = 33\n"
          ]
        }
      ],
      "source": [
        "# Min\n",
        "res_min = np.min(res3[:, 1], axis=0)\n",
        "\n",
        "print('min =', res_min)"
      ]
    },
    {
      "cell_type": "code",
      "execution_count": 9,
      "metadata": {
        "id": "cs5yNlMDy7z3",
        "tags": [
          "task_5b"
        ],
        "colab": {
          "base_uri": "https://localhost:8080/"
        },
        "outputId": "8961ec0b-47e9-41e1-dd95-0224313fba46"
      },
      "outputs": [
        {
          "output_type": "stream",
          "name": "stdout",
          "text": [
            "max = 63\n"
          ]
        }
      ],
      "source": [
        "# Max\n",
        "res_max = np.max(res3[:, 1], axis=0)\n",
        "\n",
        "print('max =', res_max)"
      ]
    },
    {
      "cell_type": "code",
      "execution_count": 10,
      "metadata": {
        "id": "iCRsMwrsy7z3",
        "tags": [
          "task_5c"
        ],
        "colab": {
          "base_uri": "https://localhost:8080/"
        },
        "outputId": "7b36c770-14f2-4760-e8a1-ef4783b6b07e"
      },
      "outputs": [
        {
          "output_type": "stream",
          "name": "stdout",
          "text": [
            "sum = 139\n"
          ]
        }
      ],
      "source": [
        "# Sum\n",
        "res_sum = np.sum(res3[:, 1], axis=0)\n",
        "\n",
        "print('sum =', res_sum)"
      ]
    },
    {
      "cell_type": "markdown",
      "metadata": {
        "id": "r47KggVa6lVr"
      },
      "source": [
        "### Task 6\n",
        "\n",
        "Tabulate the function\n",
        "\n",
        "$$f(x) = e^{2x}$$\n",
        "\n",
        "on interval `[0, 1]` with step 0.1.\n",
        "\n",
        "By \"tabulate\" we mean that we want to have a table (1D array), where on the first position we will have the function value for 0, on the second position 0.1, and so on."
      ]
    },
    {
      "cell_type": "code",
      "execution_count": 14,
      "metadata": {
        "tags": [
          "task_6"
        ],
        "id": "hYvk0d3i6lVs",
        "colab": {
          "base_uri": "https://localhost:8080/"
        },
        "outputId": "522954c1-2a0e-4fd8-f4f4-cb1c39141be7"
      },
      "outputs": [
        {
          "output_type": "stream",
          "name": "stdout",
          "text": [
            "[1.         1.22140276 1.4918247  1.8221188  2.22554093 2.71828183\n",
            " 3.32011692 4.05519997 4.95303242 6.04964746 7.3890561 ]\n"
          ]
        }
      ],
      "source": [
        "x = np.arange(0, 1.01, 0.1)\n",
        "f_x = np.exp(2 * x)\n",
        "\n",
        "print(f_x)"
      ]
    },
    {
      "cell_type": "markdown",
      "metadata": {
        "id": "5DzFkKwx0VI5"
      },
      "source": [
        "## Pandas\n",
        "\n",
        "We will be working on the classic dataset for beginner data scientists: Titanic passengers."
      ]
    },
    {
      "cell_type": "markdown",
      "metadata": {
        "id": "nP0LlORsy7z4"
      },
      "source": [
        "### Task 7\n",
        "\n",
        "Load the dataset from the following URL: https://web.stanford.edu/class/cs102/datasets/Titanic.csv"
      ]
    },
    {
      "cell_type": "code",
      "execution_count": 52,
      "metadata": {
        "id": "RiIm_kUSy7z4",
        "tags": [
          "task_7"
        ]
      },
      "outputs": [],
      "source": [
        "df = pd.read_csv('https://web.stanford.edu/class/cs102/datasets/Titanic.csv')\n",
        "\n"
      ]
    },
    {
      "cell_type": "markdown",
      "metadata": {
        "id": "hU1yDEnzy7z4"
      },
      "source": [
        "### Task 8\n",
        "\n",
        "Let's see the series/columns present in the data frame.\n",
        "\n",
        "Also, let's inspect the first ten rows of data."
      ]
    },
    {
      "cell_type": "code",
      "execution_count": 53,
      "metadata": {
        "id": "8sOSsdKiy7z4",
        "tags": [
          "task_8a"
        ],
        "colab": {
          "base_uri": "https://localhost:8080/"
        },
        "outputId": "accbcb0f-d664-4386-87f4-da12777bed33"
      },
      "outputs": [
        {
          "output_type": "stream",
          "name": "stdout",
          "text": [
            "['last', 'first', 'gender', 'age', 'class', 'fare', 'embarked', 'survived']\n"
          ]
        }
      ],
      "source": [
        "print(list(df.columns.values))"
      ]
    },
    {
      "cell_type": "code",
      "execution_count": 54,
      "metadata": {
        "tags": [
          "task_8b"
        ],
        "id": "L1d6Yscd6lVu",
        "colab": {
          "base_uri": "https://localhost:8080/"
        },
        "outputId": "fe90b9a5-4578-459e-fd2e-c5af695e85d4"
      },
      "outputs": [
        {
          "output_type": "stream",
          "name": "stdout",
          "text": [
            "        last                                       first gender   age  class  \\\n",
            "0     Braund                             Mr. Owen Harris      M  22.0      3   \n",
            "1    Cumings  Mrs. John Bradley (Florence Briggs Thayer)      F  38.0      1   \n",
            "2  Heikkinen                                  Miss Laina      F  26.0      3   \n",
            "3   Futrelle          Mrs. Jacques Heath (Lily May Peel)      F  35.0      1   \n",
            "4      Allen                           Mr. William Henry      M  35.0      3   \n",
            "5      Moran                                   Mr. James      M   NaN      3   \n",
            "6   McCarthy                               Mr. Timothy J      M  54.0      1   \n",
            "7    Palsson                        Master Gosta Leonard      M   2.0      3   \n",
            "8    Johnson    Mrs. Oscar W (Elisabeth Vilhelmina Berg)      F  27.0      3   \n",
            "9     Nasser                 Mrs. Nicholas (Adele Achem)      F  14.0      2   \n",
            "\n",
            "      fare     embarked survived  \n",
            "0   7.2500  Southampton       no  \n",
            "1  71.2833    Cherbourg      yes  \n",
            "2   7.9250  Southampton      yes  \n",
            "3  53.1000  Southampton      yes  \n",
            "4   8.0500  Southampton       no  \n",
            "5   8.4583   Queenstown       no  \n",
            "6  51.8625  Southampton       no  \n",
            "7  21.0750  Southampton       no  \n",
            "8  11.1333  Southampton      yes  \n",
            "9  30.0708    Cherbourg      yes  \n"
          ]
        }
      ],
      "source": [
        "print(df.head(10))"
      ]
    },
    {
      "cell_type": "markdown",
      "metadata": {
        "id": "NbbRIcyqy7z4"
      },
      "source": [
        "### Task 9\n",
        "\n",
        "Add a new column - full name - it should be a concat of the first and last name."
      ]
    },
    {
      "cell_type": "code",
      "execution_count": 55,
      "metadata": {
        "tags": [
          "task_9"
        ],
        "id": "DJcQPHU36lVv",
        "colab": {
          "base_uri": "https://localhost:8080/"
        },
        "outputId": "1a973f65-de22-4f42-834f-6e8befb7a2b0"
      },
      "outputs": [
        {
          "output_type": "stream",
          "name": "stdout",
          "text": [
            "        last                                       first gender   age  class  \\\n",
            "0     Braund                             Mr. Owen Harris      M  22.0      3   \n",
            "1    Cumings  Mrs. John Bradley (Florence Briggs Thayer)      F  38.0      1   \n",
            "2  Heikkinen                                  Miss Laina      F  26.0      3   \n",
            "\n",
            "      fare     embarked survived  \\\n",
            "0   7.2500  Southampton       no   \n",
            "1  71.2833    Cherbourg      yes   \n",
            "2   7.9250  Southampton      yes   \n",
            "\n",
            "                                           full name  \n",
            "0                             Mr. Owen Harris Braund  \n",
            "1  Mrs. John Bradley (Florence Briggs Thayer) Cum...  \n",
            "2                               Miss Laina Heikkinen  \n"
          ]
        }
      ],
      "source": [
        "df[\"full name\"] =  df[\"first\"] + ' ' + df[\"last\"]\n",
        "print(df.head(3))"
      ]
    },
    {
      "cell_type": "markdown",
      "metadata": {
        "id": "UvRSBhXi6lVw"
      },
      "source": [
        "### Task 10\n",
        "\n",
        "Remove the two original columns - last, first."
      ]
    },
    {
      "cell_type": "code",
      "execution_count": 56,
      "metadata": {
        "id": "2K8klEkzy7z4",
        "tags": [
          "task_10"
        ],
        "colab": {
          "base_uri": "https://localhost:8080/"
        },
        "outputId": "61531beb-b239-4a56-cf45-9b9ea202d615"
      },
      "outputs": [
        {
          "output_type": "stream",
          "name": "stdout",
          "text": [
            "                                           full name gender   age  class  \\\n",
            "0                             Mr. Owen Harris Braund      M  22.0      3   \n",
            "1  Mrs. John Bradley (Florence Briggs Thayer) Cum...      F  38.0      1   \n",
            "2                               Miss Laina Heikkinen      F  26.0      3   \n",
            "\n",
            "      fare     embarked survived  \n",
            "0   7.2500  Southampton       no  \n",
            "1  71.2833    Cherbourg      yes  \n",
            "2   7.9250  Southampton      yes  \n"
          ]
        }
      ],
      "source": [
        "df = df.drop(columns=['last', 'first'])\n",
        "df = df[['full name', 'gender', 'age', 'class', 'fare', 'embarked', 'survived']]\n",
        "print(df.head(3))"
      ]
    },
    {
      "cell_type": "markdown",
      "metadata": {
        "id": "A431RdWp6lVw"
      },
      "source": [
        "### Task 11\n",
        "\n",
        "Calculate the total number of survivors in the dataset."
      ]
    },
    {
      "cell_type": "code",
      "execution_count": 72,
      "metadata": {
        "tags": [
          "task_11"
        ],
        "id": "meTLWpz46lVx",
        "colab": {
          "base_uri": "https://localhost:8080/"
        },
        "outputId": "dea5bc87-36f9-4584-aae5-0b1ed7076ec2"
      },
      "outputs": [
        {
          "output_type": "stream",
          "name": "stdout",
          "text": [
            "survived\n",
            "no     549\n",
            "yes    342\n",
            "Name: count, dtype: int64\n"
          ]
        }
      ],
      "source": [
        "total_survivors = df['survived'].value_counts()\n",
        "print(total_survivors)"
      ]
    }
  ],
  "metadata": {
    "colab": {
      "provenance": [],
      "toc_visible": true,
      "include_colab_link": true
    },
    "kernelspec": {
      "display_name": "venv",
      "language": "python",
      "name": "python3"
    },
    "language_info": {
      "codemirror_mode": {
        "name": "ipython",
        "version": 3
      },
      "file_extension": ".py",
      "mimetype": "text/x-python",
      "name": "python",
      "nbconvert_exporter": "python",
      "pygments_lexer": "ipython3",
      "version": "3.9.6"
    },
    "orig_nbformat": 4
  },
  "nbformat": 4,
  "nbformat_minor": 0
}