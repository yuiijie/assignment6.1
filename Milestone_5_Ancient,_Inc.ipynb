{
  "nbformat": 4,
  "nbformat_minor": 0,
  "metadata": {
    "colab": {
      "provenance": [],
      "authorship_tag": "ABX9TyPqwOmUHmjcyZYaTswa9ZhO",
      "include_colab_link": true
    },
    "kernelspec": {
      "name": "python3",
      "display_name": "Python 3"
    },
    "language_info": {
      "name": "python"
    }
  },
  "cells": [
    {
      "cell_type": "markdown",
      "metadata": {
        "id": "view-in-github",
        "colab_type": "text"
      },
      "source": [
        "<a href=\"https://colab.research.google.com/github/yuiijie/assignment6.1/blob/main/Milestone_5_Ancient%2C_Inc.ipynb\" target=\"_parent\"><img src=\"https://colab.research.google.com/assets/colab-badge.svg\" alt=\"Open In Colab\"/></a>"
      ]
    },
    {
      "cell_type": "markdown",
      "source": [
        "\n",
        "You are hired as a developer to help Ancient, Inc. digitalize. They don't have any computer system to store information about their employees - everything is basically on paper in an archive!\n",
        "The last drop was the new proposal of the HR department to celebrate birthdays and hiring anniversaries of employees and give them presents. To save money, they were going to buy all the presents for the month one time with a discount. But with the current system, someone must go over the whole archive to prepare the report about how many presents need to be bought.\n",
        "Your first task as a developer is to automate this process."
      ],
      "metadata": {
        "id": "0NIiRaafICcN"
      }
    },
    {
      "cell_type": "code",
      "source": [
        "from faker import Faker"
      ],
      "metadata": {
        "id": "_FwNAHbkkf0o"
      },
      "execution_count": 59,
      "outputs": []
    },
    {
      "cell_type": "code",
      "source": [
        "import csv"
      ],
      "metadata": {
        "id": "93h7Kv17mFSk"
      },
      "execution_count": 42,
      "outputs": []
    },
    {
      "cell_type": "code",
      "source": [
        "import random"
      ],
      "metadata": {
        "id": "r1uvCrEjH_ta"
      },
      "execution_count": 13,
      "outputs": []
    },
    {
      "cell_type": "code",
      "source": [
        "from datetime import datetime"
      ],
      "metadata": {
        "id": "icFo0CBKmZYR"
      },
      "execution_count": 14,
      "outputs": []
    },
    {
      "cell_type": "code",
      "source": [
        "from collections import defaultdict"
      ],
      "metadata": {
        "id": "Mg467OOFT83D"
      },
      "execution_count": 16,
      "outputs": []
    },
    {
      "cell_type": "markdown",
      "source": [],
      "metadata": {
        "id": "LFWXH6X2UxME"
      }
    },
    {
      "cell_type": "markdown",
      "source": [
        "#Part 1 - data generation\n",
        "Company employee data is not to play around with! To develop and test our program, we need first to generate synthetic data. Create a program generate_data.py, and write data to database.csv file. You can generate arbitrary information about employees, but be sure to include name, hiring date, department, and birthday"
      ],
      "metadata": {
        "id": "DepmqqpYU4xz"
      }
    },
    {
      "cell_type": "code",
      "execution_count": 47,
      "metadata": {
        "id": "tVnENSe1UwXp"
      },
      "outputs": [],
      "source": [
        "fake = Faker()\n",
        "\n",
        "departments = ('Woodcutting', 'Welding', 'Molding', 'Repairs')\n",
        "\n",
        "def generate_employees():\n",
        "    name = fake.name()\n",
        "    birthday = fake.date_of_birth(minimum_age=20, maximum_age=60)\n",
        "    department = random.choice(departments)\n",
        "    hiring_date = fake.date_between(start_date=\"-20y\", end_date=\"today\")\n",
        "    return [name, birthday, department, hiring_date]\n",
        "\n",
        "def generate_data(filename='database.csv', count=200):\n",
        "    with open(filename, mode='w', newline='') as file:\n",
        "        writer = csv.writer(file)\n",
        "        writer.writerow(['name', 'birthday', 'department', 'hiring_date'])\n",
        "        for _ in range(count):\n",
        "            writer.writerow(generate_employees())\n",
        "\n",
        "generate_data()\n"
      ]
    },
    {
      "cell_type": "markdown",
      "source": [
        "#Part 2 - report\n",
        "Write a program report.py that will take as arguments the database file name and month and will print the search result."
      ],
      "metadata": {
        "id": "KS1HFSd-VHNo"
      }
    },
    {
      "cell_type": "code",
      "source": [
        "months = {m.lower(): i for i, m in enumerate([\n",
        "    '', 'January', 'February', 'March', 'April', 'May', 'June','July',\n",
        "    'August', 'September', 'October', 'November', 'December'\n",
        "    ])}\n",
        "\n",
        "def read_data(filename):\n",
        "  with open(filename, newline='') as file:\n",
        "    reader = csv.DictReader(file)\n",
        "    return list(reader)\n",
        "\n",
        "def report_by_month(data, key, month_num):\n",
        "    report = defaultdict(list)\n",
        "    for row in data:\n",
        "        try:\n",
        "            date = datetime.strptime(row[key], '%Y-%m-%d')\n",
        "            if date.month == month_num:\n",
        "                report[row['department']].append(row['name'])\n",
        "        except ValueError:\n",
        "            continue\n",
        "    return report\n",
        "\n",
        "def generate_report(filename: str, month_name: str):\n",
        "    month_num = months.get(month_name.lower())\n",
        "    if not month_num:\n",
        "        print(f\"Invalid month: {month_name}\")\n",
        "        return\n",
        "\n",
        "data = read_data('database.csv')\n",
        "month_name = 'May'\n",
        "birthday_report = report_by_month(data, 'birthday', 5)\n",
        "anniversary_report = report_by_month(data, 'hiring_date', 5)\n",
        "\n"
      ],
      "metadata": {
        "id": "xsMynNByU2lo"
      },
      "execution_count": 52,
      "outputs": []
    },
    {
      "cell_type": "code",
      "source": [
        "print(f\"Report for {month_name.capitalize()}: \")\n",
        "print(\"\\n--- Birthdays ---\")\n",
        "total_birthday = sum(len(v) for v in birthday_report.values())\n",
        "print(f\"Total: {total_birthday}\")\n",
        "print(\"\\nBy department:\")\n",
        "for dept, people in birthday_report.items():\n",
        "    print(f\"\\n- {dept}: {len(people)}:\")\n",
        "    for name in people:\n",
        "            print(f\"   - {name}\")\n",
        "print(\"\\n\\n--- Anniversaries ---\")\n",
        "total_anniversaries = sum(len(v) for v in anniversary_report.values())\n",
        "print(f\"Total: {total_anniversaries}\")\n",
        "print(\"\\nBy department:\")\n",
        "for dept, people in anniversary_report.items():\n",
        "    print(f\"- {dept}: {len(people)}:\")\n",
        "    for name in people:\n",
        "            print(f\"   - {name}\")"
      ],
      "metadata": {
        "colab": {
          "base_uri": "https://localhost:8080/"
        },
        "id": "z3cTQnrYUZxR",
        "outputId": "31335b17-d7b8-4872-8a55-39af66714f1c"
      },
      "execution_count": 58,
      "outputs": [
        {
          "output_type": "stream",
          "name": "stdout",
          "text": [
            "Report for May: \n",
            "\n",
            "--- Birthdays ---\n",
            "Total: 19\n",
            "\n",
            "By department:\n",
            "\n",
            "- Repairs: 3:\n",
            "   - Charles Meyer\n",
            "   - Mary Calhoun\n",
            "   - Mr. Eric Nguyen\n",
            "\n",
            "- Molding: 8:\n",
            "   - Amber Hardy\n",
            "   - Bonnie Jones\n",
            "   - Christy Schneider\n",
            "   - Kyle Williams\n",
            "   - Noah Turner\n",
            "   - Richard Smith\n",
            "   - Jose Schmidt\n",
            "   - Jose Price\n",
            "\n",
            "- Welding: 6:\n",
            "   - Alexis Davis\n",
            "   - Carolyn Brennan\n",
            "   - Anita Carter\n",
            "   - Catherine Alvarez\n",
            "   - William Evans\n",
            "   - Jennifer Steele\n",
            "\n",
            "- Woodcutting: 2:\n",
            "   - Felicia Jones\n",
            "   - Cheryl Rivera MD\n",
            "\n",
            "\n",
            "--- Anniversaries ---\n",
            "Total: 21\n",
            "\n",
            "By department:\n",
            "- Repairs: 9:\n",
            "   - William Davis\n",
            "   - Zachary Hill\n",
            "   - Danielle Murray DVM\n",
            "   - Heather Sullivan\n",
            "   - Lee Pham\n",
            "   - Christopher Robles II\n",
            "   - Jennifer Luna\n",
            "   - Mr. Eric Nguyen\n",
            "   - Jasmine Henderson\n",
            "- Welding: 5:\n",
            "   - Alexis Davis\n",
            "   - Linda Crawford\n",
            "   - Kimberly Hernandez\n",
            "   - Mathew Lee\n",
            "   - Thomas Baker\n",
            "- Woodcutting: 6:\n",
            "   - Tracy Crawford\n",
            "   - David Lopez\n",
            "   - Mary Brown\n",
            "   - Brianna Jones\n",
            "   - Reginald Payne\n",
            "   - Victor Ross\n",
            "- Molding: 1:\n",
            "   - David Vincent\n"
          ]
        }
      ]
    }
  ]
}