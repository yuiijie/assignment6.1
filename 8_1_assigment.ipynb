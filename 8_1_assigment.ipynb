{
  "cells": [
    {
      "cell_type": "markdown",
      "metadata": {
        "id": "view-in-github",
        "colab_type": "text"
      },
      "source": [
        "<a href=\"https://colab.research.google.com/github/yuiijie/assignment6.1/blob/main/8_1_assigment.ipynb\" target=\"_parent\"><img src=\"https://colab.research.google.com/assets/colab-badge.svg\" alt=\"Open In Colab\"/></a>"
      ]
    },
    {
      "cell_type": "markdown",
      "metadata": {
        "id": "2_R_Ya7UhcB8"
      },
      "source": [
        "# Assignment 8.1\n",
        "\n",
        "> Replace all TODOs with your code.\n",
        ">\n",
        "> Do not change any other code and do not add/remove cells!"
      ]
    },
    {
      "cell_type": "markdown",
      "metadata": {
        "id": "N1SWwMSshfVz"
      },
      "source": [
        "## Classes"
      ]
    },
    {
      "cell_type": "markdown",
      "metadata": {
        "id": "OY8NxJ-CiePg"
      },
      "source": [
        "### Task 1\n",
        "\n",
        "Define a Python class named `Interval` with the following specifications:\n",
        "\n",
        "1. The class should have a constructor (\\_\\_init__) that takes two parameters, start and end, and initializes the interval with these values.\n",
        "2. Ensure that both start and end are numeric (either integers or floats).\n",
        "3. Ensure that the start value is less than or equal to the end value.\n",
        "4. Provide a \\_\\_str__ method to return a string representation of the interval in the format \"[start, end]\"."
      ]
    },
    {
      "cell_type": "code",
      "execution_count": 1,
      "metadata": {
        "id": "VBFmFWDXjQPT",
        "colab": {
          "base_uri": "https://localhost:8080/"
        },
        "outputId": "4c88236a-2d29-4254-8c64-c4d73fb238fb"
      },
      "outputs": [
        {
          "output_type": "stream",
          "name": "stdout",
          "text": [
            "[1, 5]\n"
          ]
        }
      ],
      "source": [
        "class Interval:\n",
        "    def __init__(self, start, end):\n",
        "      if not isinstance(start, (int, float)) or not isinstance(end, (int,float)):\n",
        "        raise ValueError('wrong parameters')\n",
        "      if start > end:\n",
        "        raise ValueError('wrong parameters')\n",
        "      self.start = start\n",
        "      self.end = end\n",
        "\n",
        "    def __str__(self):\n",
        "      return f'[{self.start}, {self.end}]'\n",
        "\n",
        "interval = Interval(1, 5)\n",
        "print(interval) # [1, 5]"
      ]
    },
    {
      "cell_type": "markdown",
      "metadata": {
        "id": "pJ72CYiylhIY"
      },
      "source": [
        "### Task 2\n",
        "\n",
        "Expand the Interval class by adding a method named `is_overlapping` that checks whether the current interval overlaps with another interval. The method should take another Interval object as a parameter and return `True` if there is an overlap and `False` otherwise."
      ]
    },
    {
      "cell_type": "code",
      "execution_count": 2,
      "metadata": {
        "id": "7t64cfMdl3qe",
        "colab": {
          "base_uri": "https://localhost:8080/"
        },
        "outputId": "c5a3be1c-b5b7-48c6-f0c1-ed0a5378d91c"
      },
      "outputs": [
        {
          "output_type": "stream",
          "name": "stdout",
          "text": [
            "Do intervals overlap? True\n"
          ]
        }
      ],
      "source": [
        "class Interval:\n",
        "    def __init__(self, start, end):\n",
        "      if not isinstance(start, (int, float)) or not isinstance(end, (int,float)):\n",
        "        raise ValueError('wrong parameters')\n",
        "      if start > end:\n",
        "        raise ValueError('wrong parameters')\n",
        "      self.start = start\n",
        "      self.end = end\n",
        "\n",
        "    def __str__(self):\n",
        "      return f'[{self.start}, {self.end}]'\n",
        "\n",
        "    def is_overlapping(self, other_interval):\n",
        "      if self.end >= other_interval.start and self.start <= other_interval.end:\n",
        "        return True\n",
        "      else:\n",
        "        return False\n",
        "\n",
        "interval1 = Interval(1, 5)\n",
        "interval2 = Interval(3, 8)\n",
        "\n",
        "overlap_result = interval1.is_overlapping(interval2)\n",
        "print(\"Do intervals overlap?\", overlap_result) # Do intervals overlap? True"
      ]
    },
    {
      "cell_type": "markdown",
      "metadata": {
        "id": "aelqtEfkni2N"
      },
      "source": [
        "### Task 3\n",
        "\n",
        "Expand the `Interval` class by adding a **static** method named `intersection_static` that calculates the intersection of two overlapping intervals. The static method should take two `Interval` objects as parameters and return a new `Interval` representing the intersection if there is one.\n",
        "\n",
        "The method should return `None` if the intervals do not overlap."
      ]
    },
    {
      "cell_type": "code",
      "execution_count": 13,
      "metadata": {
        "id": "E6DNMmTRoyNa",
        "colab": {
          "base_uri": "https://localhost:8080/"
        },
        "outputId": "1886f55a-736b-484a-d135-54c847e09bb2"
      },
      "outputs": [
        {
          "output_type": "stream",
          "name": "stdout",
          "text": [
            "Intersection result (static method): [3, 5]\n"
          ]
        }
      ],
      "source": [
        "class Interval:\n",
        "    def __init__(self, start, end):\n",
        "      if not isinstance(start, (int, float)) or not isinstance(end, (int,float)):\n",
        "        raise ValueError('wrong parameters')\n",
        "      if start > end:\n",
        "        raise ValueError('wrong parameters')\n",
        "      self.start = start\n",
        "      self.end = end\n",
        "\n",
        "    def __str__(self):\n",
        "      return f'[{self.start}, {self.end}]'\n",
        "\n",
        "    def is_overlapping(self, other_interval):\n",
        "      if self.end >= other_interval.start and self.start <= other_interval.end:\n",
        "        return True\n",
        "      else:\n",
        "        return False\n",
        "\n",
        "    @staticmethod\n",
        "    def intersection_static(interval1, interval2):\n",
        "      if interval1.end >= interval2.start and interval1.start <= interval2.end:\n",
        "        start = max(interval1.start, interval2.start)\n",
        "        end = min(interval1.end, interval2.end)\n",
        "        return Interval(start, end)\n",
        "      else:\n",
        "        return None\n",
        "\n",
        "\n",
        "interval1 = Interval(1, 5)\n",
        "interval2 = Interval(3, 8)\n",
        "\n",
        "intersection_result_static = Interval.intersection_static(interval1, interval2)\n",
        "print(\"Intersection result (static method):\", intersection_result_static)\n",
        "\n",
        "# Intersection result (static method): [3, 5]"
      ]
    },
    {
      "cell_type": "markdown",
      "metadata": {
        "id": "xGh7oQHFtsSl"
      },
      "source": [
        "### Task 4\n",
        "\n",
        "Expand the `Interval` class by overloading a math operator \"&\" to calculate the intersection of two overlapping intervals. Define the logic for the intersection using the method from the previous task."
      ]
    },
    {
      "cell_type": "code",
      "execution_count": 12,
      "metadata": {
        "id": "3f3CiUlGu1cq",
        "colab": {
          "base_uri": "https://localhost:8080/"
        },
        "outputId": "f9773de9-bd11-44f3-c431-fd5189c4daa9"
      },
      "outputs": [
        {
          "output_type": "stream",
          "name": "stdout",
          "text": [
            "Intersection result: [3, 5]\n"
          ]
        }
      ],
      "source": [
        "class Interval:\n",
        "    def __init__(self, start, end):\n",
        "      if not isinstance(start, (int, float)) or not isinstance(end, (int,float)):\n",
        "        raise ValueError('wrong parameters')\n",
        "      if start > end:\n",
        "        raise ValueError('wrong parameters')\n",
        "      self.start = start\n",
        "      self.end = end\n",
        "\n",
        "    def __str__(self):\n",
        "      return f'[{self.start}, {self.end}]'\n",
        "\n",
        "    def is_overlapping(self, other_interval):\n",
        "      if self.end >= other_interval.start and self.start <= other_interval.end:\n",
        "        return True\n",
        "      else:\n",
        "        return False\n",
        "\n",
        "    def __and__(self, other):\n",
        "      if self.end >= other.start and self.start <= other.end:\n",
        "        start = max(self.start, other.start)\n",
        "        end = min(self.end, other.end)\n",
        "        return Interval(start, end)\n",
        "      else:\n",
        "        return None\n",
        "\n",
        "interval1 = Interval(1, 5)\n",
        "interval2 = Interval(3, 8)\n",
        "\n",
        "intersection_result = interval1 & interval2\n",
        "print(\"Intersection result:\", intersection_result) # Intersection result: [3, 5]"
      ]
    },
    {
      "cell_type": "markdown",
      "metadata": {
        "id": "51BGij2Tvoka"
      },
      "source": [
        "### Task 5\n",
        "\n",
        "Expand the `Interval` class by adding a static method named `union_static` that calculates the union of two overlapping intervals. The static method should take two Interval objects as parameters and return a new Interval representing the union if there is one.\n",
        "\n",
        "The method should return `None` if the intervals do not overlap."
      ]
    },
    {
      "cell_type": "code",
      "execution_count": 14,
      "metadata": {
        "id": "Xnm1CbK8v2v1",
        "colab": {
          "base_uri": "https://localhost:8080/"
        },
        "outputId": "d7b12aeb-5712-4b6c-acf0-a133122d3e98"
      },
      "outputs": [
        {
          "output_type": "stream",
          "name": "stdout",
          "text": [
            "Union Result (Static method): [1, 8]\n"
          ]
        }
      ],
      "source": [
        "class Interval:\n",
        "    def __init__(self, start, end):\n",
        "      if not isinstance(start, (int, float)) or not isinstance(end, (int,float)):\n",
        "        raise ValueError('wrong parameters')\n",
        "      if start > end:\n",
        "        raise ValueError('wrong parameters')\n",
        "      self.start = start\n",
        "      self.end = end\n",
        "\n",
        "    def __str__(self):\n",
        "      return f'[{self.start}, {self.end}]'\n",
        "\n",
        "    def is_overlapping(self, other_interval):\n",
        "      if self.end >= other_interval.start and self.start <= other_interval.end:\n",
        "        return True\n",
        "      else:\n",
        "        return False\n",
        "\n",
        "    def __and__(self, other):\n",
        "      if self.end >= other.start and self.start <= other.end:\n",
        "        start = max(self.start, other.start)\n",
        "        end = min(self.end, other.end)\n",
        "        return Interval(start, end)\n",
        "      else:\n",
        "        return None\n",
        "\n",
        "    @staticmethod\n",
        "    def union_static(interval1, interval2):\n",
        "      if interval1.end >= interval2.start and interval1.start <= interval2.end:\n",
        "        start = min(interval1.start, interval2.start)\n",
        "        end = max(interval1.end, interval2.end)\n",
        "        return Interval(start, end)\n",
        "      else:\n",
        "        return None\n",
        "\n",
        "interval1 = Interval(1, 5)\n",
        "interval2 = Interval(3, 8)\n",
        "\n",
        "union_result_static = Interval.union_static(interval1, interval2)\n",
        "print(\"Union Result (Static method):\", union_result_static) # Union Result (Static method): [1, 8]"
      ]
    },
    {
      "cell_type": "markdown",
      "metadata": {
        "id": "5yGYlKjCwbzr"
      },
      "source": [
        "### Task 6\n",
        "\n",
        "Expand the `Interval` class by overloading a math operator \"|\" to calculate the union  of two overlapping intervals. Define the logic for the union using the method from the previous task."
      ]
    },
    {
      "cell_type": "code",
      "execution_count": 15,
      "metadata": {
        "id": "xjCgPAy5wu1Z",
        "colab": {
          "base_uri": "https://localhost:8080/"
        },
        "outputId": "117ed018-20e1-413c-ece0-115b38c6a2dc"
      },
      "outputs": [
        {
          "output_type": "stream",
          "name": "stdout",
          "text": [
            "Union Result: [1, 8]\n"
          ]
        }
      ],
      "source": [
        "class Interval:\n",
        "    def __init__(self, start, end):\n",
        "      if not isinstance(start, (int, float)) or not isinstance(end, (int,float)):\n",
        "        raise ValueError('wrong parameters')\n",
        "      if start > end:\n",
        "        raise ValueError('wrong parameters')\n",
        "      self.start = start\n",
        "      self.end = end\n",
        "\n",
        "    def __str__(self):\n",
        "      return f'[{self.start}, {self.end}]'\n",
        "\n",
        "    def is_overlapping(self, other_interval):\n",
        "      if self.end >= other_interval.start and self.start <= other_interval.end:\n",
        "        return True\n",
        "      else:\n",
        "        return False\n",
        "\n",
        "    def __and__(self, other):\n",
        "      if self.end >= other.start and self.start <= other.end:\n",
        "        start = max(self.start, other.start)\n",
        "        end = min(self.end, other.end)\n",
        "        return Interval(start, end)\n",
        "      else:\n",
        "        return None\n",
        "\n",
        "    def __or__(self, other):\n",
        "      if self.end >= other.start and self.start <= other.end:\n",
        "        start = min(self.start, other.start)\n",
        "        end = max(self.end, other.end)\n",
        "        return Interval(start, end)\n",
        "      else:\n",
        "        return None\n",
        "\n",
        "\n",
        "interval1 = Interval(1, 5)\n",
        "interval2 = Interval(3, 8)\n",
        "\n",
        "union_result = interval1 | interval2\n",
        "print(\"Union Result:\", union_result) # Union Result: [1, 8]"
      ]
    },
    {
      "cell_type": "markdown",
      "metadata": {
        "id": "N-hiSBEK0fbz"
      },
      "source": [
        "### Task 7 (optional)\n",
        "\n",
        "Expand the `Interval` class by overloading the \"-\" operator to calculate the difference between two intervals. The method should return a new `Interval` representing the portion of the first interval that is not in the second."
      ]
    },
    {
      "cell_type": "code",
      "execution_count": 20,
      "metadata": {
        "id": "YZ5AqAXr002L",
        "colab": {
          "base_uri": "https://localhost:8080/"
        },
        "outputId": "33a953ee-924d-4a08-dcaa-6f9e18bc2502"
      },
      "outputs": [
        {
          "output_type": "stream",
          "name": "stdout",
          "text": [
            "Difference Result: [1, 2]\n",
            "Difference Result: [6, 8]\n"
          ]
        }
      ],
      "source": [
        "class Interval:\n",
        "    def __init__(self, start, end):\n",
        "      if not isinstance(start, (int, float)) or not isinstance(end, (int,float)):\n",
        "        raise ValueError('wrong parameters')\n",
        "      if start > end:\n",
        "        raise ValueError('wrong parameters')\n",
        "      self.start = start\n",
        "      self.end = end\n",
        "\n",
        "    def __str__(self):\n",
        "      return f'[{self.start}, {self.end}]'\n",
        "\n",
        "    def is_overlapping(self, other_interval):\n",
        "      if self.end >= other_interval.start and self.start <= other_interval.end:\n",
        "        return True\n",
        "      else:\n",
        "        return False\n",
        "\n",
        "    def __and__(self, other):\n",
        "      if self.end >= other.start and self.start <= other.end:\n",
        "        start = max(self.start, other.start)\n",
        "        end = min(self.end, other.end)\n",
        "        return Interval(start, end)\n",
        "      else:\n",
        "        return None\n",
        "\n",
        "    def __or__(self, other):\n",
        "      if self.end >= other.start and self.start <= other.end:\n",
        "        start = min(self.start, other.start)\n",
        "        end = max(self.end, other.end)\n",
        "        return Interval(start, end)\n",
        "      else:\n",
        "        return None\n",
        "\n",
        "    def __sub__(self, other):\n",
        "      if not self.is_overlapping(other):\n",
        "        return Interval(self.start, self.end)\n",
        "      if self.start < other.start:\n",
        "        start = self.start\n",
        "        end = min(other.start - 1, self.end)\n",
        "      if self.end > other.end:\n",
        "        start = max(self.start, other.end + 1)\n",
        "        end = self.end\n",
        "      return Interval(start, end)\n",
        "\n",
        "\n",
        "interval1 = Interval(1, 5)\n",
        "interval2 = Interval(3, 8)\n",
        "\n",
        "print(\"Difference Result:\", interval1 - interval2) # Union Result: [1, 2]\n",
        "print(\"Difference Result:\", interval2 - interval1) # Union Result: [6, 8]"
      ]
    }
  ],
  "metadata": {
    "colab": {
      "provenance": [],
      "toc_visible": true,
      "include_colab_link": true
    },
    "kernelspec": {
      "display_name": "Python 3",
      "name": "python3"
    },
    "language_info": {
      "name": "python"
    }
  },
  "nbformat": 4,
  "nbformat_minor": 0
}