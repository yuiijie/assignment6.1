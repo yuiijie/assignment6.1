{
  "nbformat": 4,
  "nbformat_minor": 0,
  "metadata": {
    "colab": {
      "provenance": [],
      "authorship_tag": "ABX9TyPHjF9z+hNWswWINh3pcoUQ",
      "include_colab_link": true
    },
    "kernelspec": {
      "name": "python3",
      "display_name": "Python 3"
    },
    "language_info": {
      "name": "python"
    }
  },
  "cells": [
    {
      "cell_type": "markdown",
      "metadata": {
        "id": "view-in-github",
        "colab_type": "text"
      },
      "source": [
        "<a href=\"https://colab.research.google.com/github/yuiijie/assignment6.1/blob/main/Milestone_4_Trade_offs.ipynb\" target=\"_parent\"><img src=\"https://colab.research.google.com/assets/colab-badge.svg\" alt=\"Open In Colab\"/></a>"
      ]
    },
    {
      "cell_type": "code",
      "source": [
        "from typing import List, Tuple"
      ],
      "metadata": {
        "id": "x-iJpYvBBN47"
      },
      "execution_count": null,
      "outputs": []
    },
    {
      "cell_type": "markdown",
      "source": [
        "Alice and Bob are playing the game: they have a random list of numbers and whoever first finds the pair of numbers such that they add up to a pre-agreed number - wins.\n",
        "\n",
        "Carol sees their game and wants to win it, but Alice is unbeatable, she finds the pairs very quickly. So instead, he decided to use a program to play this game with her.\n",
        "\n",
        "Let's write the function `find_sum(target: int, li: List[int]) -> Tuple[int, int]`. It should find the pair of elements in li that sum up to the `target`` value. You can assume the answer always exists, and if there are multiple answers - return any.\n",
        "\n",
        "`assert find_sum(5, [1, 2, 3, 4, 5]) in {(0, 3), (1, 2)}`\n",
        "\n",
        "First, let's approach this problem in a brute-force manner. Just iterate over all of the pairs with a double for-loop. Write the comment in the code with the time and space complexity of your algorithm.\n",
        "\n"
      ],
      "metadata": {
        "id": "iL6JeAgxbZBQ"
      }
    },
    {
      "cell_type": "code",
      "execution_count": null,
      "metadata": {
        "id": "vub5byAGbVPX",
        "colab": {
          "base_uri": "https://localhost:8080/"
        },
        "outputId": "2719904e-460d-4e28-a27a-e4a449c0b821"
      },
      "outputs": [
        {
          "output_type": "execute_result",
          "data": {
            "text/plain": [
              "[(1, 4), (2, 3)]"
            ]
          },
          "metadata": {},
          "execution_count": 6
        }
      ],
      "source": [
        "def find_sum(target: int, li: List[int]) -> Tuple[int, int]:\n",
        "\n",
        "    result = []\n",
        "    for i in range(len(li)):\n",
        "        for j in range(i + 1, len(li)):\n",
        "            if li[i] + li[j] == target:\n",
        "                result.append((li[i], li[j]))\n",
        "    return result\n",
        "\n",
        "find_sum(5, [1, 2, 3, 4, 5])\n",
        "\n",
        "#time complexity O(n^2), бо у нас дві for loops\n",
        "#не дуже зрозуміла, як працює space complexity"
      ]
    },
    {
      "cell_type": "markdown",
      "source": [
        "Then, we can utilize a common pattern in solving algo problems - trading space for time! That means that our program can additionally utilize a more convenient data structure to improve time complexity.\n",
        "\n",
        "Write function `find_sum_fast(target: int, li: List[int]) -> Tuple[int, int]`, which will do the same as find_sum, but with lower time complexity. Write the comment in the code with the time and space complexity of the new algorithm."
      ],
      "metadata": {
        "id": "_b80YiXj-blC"
      }
    },
    {
      "cell_type": "code",
      "source": [
        "def find_sum_fast(target: int, li: List[int]) -> Tuple[int, int]:\n",
        "    seen = set()\n",
        "    result = []\n",
        "\n",
        "    for num in li:\n",
        "        complement = target - num\n",
        "        if complement in seen:\n",
        "            result.append(tuple(sorted((num, complement))))\n",
        "        seen.add(num)\n",
        "\n",
        "    return list(result)\n",
        "\n",
        "find_sum_fast(5, [1, 2, 3, 4, 5])\n",
        "\n",
        "#time complexity O(n)"
      ],
      "metadata": {
        "id": "9dok72c5-dd2",
        "colab": {
          "base_uri": "https://localhost:8080/"
        },
        "outputId": "c904e741-444b-48d1-b26c-1cf0963e5274"
      },
      "execution_count": null,
      "outputs": [
        {
          "output_type": "execute_result",
          "data": {
            "text/plain": [
              "[(2, 3), (1, 4)]"
            ]
          },
          "metadata": {},
          "execution_count": 4
        }
      ]
    }
  ]
}