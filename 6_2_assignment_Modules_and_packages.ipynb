{
  "nbformat": 4,
  "nbformat_minor": 0,
  "metadata": {
    "colab": {
      "provenance": [],
      "authorship_tag": "ABX9TyN+p4TQvvpeWcavDlKpf2C6",
      "include_colab_link": true
    },
    "kernelspec": {
      "name": "python3",
      "display_name": "Python 3"
    },
    "language_info": {
      "name": "python"
    }
  },
  "cells": [
    {
      "cell_type": "markdown",
      "metadata": {
        "id": "view-in-github",
        "colab_type": "text"
      },
      "source": [
        "<a href=\"https://colab.research.google.com/github/yuiijie/assignment6.1/blob/main/6_2_assignment_Modules_and_packages.ipynb\" target=\"_parent\"><img src=\"https://colab.research.google.com/assets/colab-badge.svg\" alt=\"Open In Colab\"/></a>"
      ]
    },
    {
      "cell_type": "code",
      "source": [
        "import functools"
      ],
      "metadata": {
        "id": "lHcpou4lbwwF"
      },
      "execution_count": null,
      "outputs": []
    },
    {
      "cell_type": "markdown",
      "source": [
        "1. Write a decorator that ensures a function is only called by users with a\n",
        " specific role. Each function should have an user_type with a string\n",
        "type in kwargs.\n",
        "\n"
      ],
      "metadata": {
        "id": "OJ-e1aImo2Q6"
      }
    },
    {
      "cell_type": "code",
      "execution_count": null,
      "metadata": {
        "id": "kDOlZvHHov69"
      },
      "outputs": [],
      "source": [
        "def is_admin(func):\n",
        "  def wrapper(*args, **kwargs):\n",
        "    user_type = kwargs.get('user_type')\n",
        "    if user_type != 'admin':\n",
        "      raise ValueError(\"Permission denied\")\n",
        "    return func(*args, **kwargs)\n",
        "  return wrapper\n",
        "\n"
      ]
    },
    {
      "cell_type": "code",
      "source": [
        "@is_admin\n",
        "def show_customer_receipt(user_type: str):\n",
        "    print('Showing receipt')\n"
      ],
      "metadata": {
        "id": "pU3RE61uO4tI"
      },
      "execution_count": null,
      "outputs": []
    },
    {
      "cell_type": "code",
      "source": [
        "show_customer_receipt(user_type='user')\n",
        "#> ValueError: Permission denied"
      ],
      "metadata": {
        "colab": {
          "base_uri": "https://localhost:8080/",
          "height": 280
        },
        "id": "Spk_zeuxO56w",
        "outputId": "2b7f82ff-3a0e-462d-b466-f9f151999125"
      },
      "execution_count": null,
      "outputs": [
        {
          "output_type": "error",
          "ename": "ValueError",
          "evalue": "Permission denied",
          "traceback": [
            "\u001b[0;31m---------------------------------------------------------------------------\u001b[0m",
            "\u001b[0;31mValueError\u001b[0m                                Traceback (most recent call last)",
            "\u001b[0;32m<ipython-input-3-2612278064>\u001b[0m in \u001b[0;36m<cell line: 0>\u001b[0;34m()\u001b[0m\n\u001b[0;32m----> 1\u001b[0;31m \u001b[0mshow_customer_receipt\u001b[0m\u001b[0;34m(\u001b[0m\u001b[0muser_type\u001b[0m\u001b[0;34m=\u001b[0m\u001b[0;34m'user'\u001b[0m\u001b[0;34m)\u001b[0m\u001b[0;34m\u001b[0m\u001b[0;34m\u001b[0m\u001b[0m\n\u001b[0m\u001b[1;32m      2\u001b[0m \u001b[0;31m#> ValueError: Permission denied\u001b[0m\u001b[0;34m\u001b[0m\u001b[0;34m\u001b[0m\u001b[0m\n",
            "\u001b[0;32m<ipython-input-1-995608444>\u001b[0m in \u001b[0;36mwrapper\u001b[0;34m(*args, **kwargs)\u001b[0m\n\u001b[1;32m      3\u001b[0m     \u001b[0muser_type\u001b[0m \u001b[0;34m=\u001b[0m \u001b[0mkwargs\u001b[0m\u001b[0;34m.\u001b[0m\u001b[0mget\u001b[0m\u001b[0;34m(\u001b[0m\u001b[0;34m'user_type'\u001b[0m\u001b[0;34m)\u001b[0m\u001b[0;34m\u001b[0m\u001b[0;34m\u001b[0m\u001b[0m\n\u001b[1;32m      4\u001b[0m     \u001b[0;32mif\u001b[0m \u001b[0muser_type\u001b[0m \u001b[0;34m!=\u001b[0m \u001b[0;34m'admin'\u001b[0m\u001b[0;34m:\u001b[0m\u001b[0;34m\u001b[0m\u001b[0;34m\u001b[0m\u001b[0m\n\u001b[0;32m----> 5\u001b[0;31m       \u001b[0;32mraise\u001b[0m \u001b[0mValueError\u001b[0m\u001b[0;34m(\u001b[0m\u001b[0;34m\"Permission denied\"\u001b[0m\u001b[0;34m)\u001b[0m\u001b[0;34m\u001b[0m\u001b[0;34m\u001b[0m\u001b[0m\n\u001b[0m\u001b[1;32m      6\u001b[0m     \u001b[0;32mreturn\u001b[0m \u001b[0mfunc\u001b[0m\u001b[0;34m(\u001b[0m\u001b[0;34m*\u001b[0m\u001b[0margs\u001b[0m\u001b[0;34m,\u001b[0m \u001b[0;34m**\u001b[0m\u001b[0mkwargs\u001b[0m\u001b[0;34m)\u001b[0m\u001b[0;34m\u001b[0m\u001b[0;34m\u001b[0m\u001b[0m\n\u001b[1;32m      7\u001b[0m   \u001b[0;32mreturn\u001b[0m \u001b[0mwrapper\u001b[0m\u001b[0;34m\u001b[0m\u001b[0;34m\u001b[0m\u001b[0m\n",
            "\u001b[0;31mValueError\u001b[0m: Permission denied"
          ]
        }
      ]
    },
    {
      "cell_type": "code",
      "source": [
        "show_customer_receipt(user_type='admin')\n",
        "#> function pass as it should be"
      ],
      "metadata": {
        "colab": {
          "base_uri": "https://localhost:8080/"
        },
        "id": "r2tIhZizO8dC",
        "outputId": "df4832e5-cb9a-4e50-fecc-c26a6d35ddfa"
      },
      "execution_count": null,
      "outputs": [
        {
          "output_type": "stream",
          "name": "stdout",
          "text": [
            "Showing receipt\n"
          ]
        }
      ]
    },
    {
      "cell_type": "markdown",
      "source": [
        "2. Write a decorator that wraps a function in a try-except block and prints an error if any type of error has happened. Example:"
      ],
      "metadata": {
        "id": "6z4qakbHo5TV"
      }
    },
    {
      "cell_type": "code",
      "source": [
        "def catch_errors(func):\n",
        "  @functools.wraps(func)\n",
        "  def wrapper(*args, **kwargs):\n",
        "    try:\n",
        "      return func(*args, **kwargs)\n",
        "    except Exception as e:\n",
        "      print(f\"Found 1 error during execution of your function: {type(e).__name__} {e}\")\n",
        "  return wrapper\n",
        "\n",
        "@catch_errors\n",
        "def some_function_with_risky_operation(data):\n",
        "    return print(data['key'])\n",
        "\n",
        "some_function_with_risky_operation({'foo': 'bar'})\n",
        "#> Found 1 error during execution of your function: KeyError no such key as foo\n",
        "\n",
        "some_function_with_risky_operation({'key': 'bar'})\n",
        "#> bar\n"
      ],
      "metadata": {
        "id": "KivtCaxgo64x",
        "colab": {
          "base_uri": "https://localhost:8080/"
        },
        "outputId": "ed30fd52-5874-431a-8a35-251b89b1852e"
      },
      "execution_count": null,
      "outputs": [
        {
          "output_type": "stream",
          "name": "stdout",
          "text": [
            "Found 1 error during execution of your function: KeyError 'key'\n",
            "bar\n"
          ]
        }
      ]
    },
    {
      "cell_type": "markdown",
      "source": [
        "3. Optional: Create a decorator that will check types. It should take a function with arguments and validate inputs with annotations. It should work for all possible functions. Don`t forget to check the return type as well\n",
        "\n",
        "Example:"
      ],
      "metadata": {
        "id": "DJM8r5Mro7V3"
      }
    },
    {
      "cell_type": "code",
      "source": [
        "@check_types\n",
        "def add(a: int, b: int) -> int:\n",
        "    return a + b\n",
        "\n",
        "add(1, 2)\n",
        "> 3\n",
        "\n",
        "add(\"1\", \"2\")\n",
        "> TypeError: Argument a must be int, not str"
      ],
      "metadata": {
        "id": "_GK1LquAo9SR"
      },
      "execution_count": null,
      "outputs": []
    },
    {
      "cell_type": "markdown",
      "source": [
        "4. Optional: Create a function that caches the result of a function, so that if it is called with the same argument multiple times, it returns the cached result first instead of re-executing the function.\n",
        "\n"
      ],
      "metadata": {
        "id": "z1BJsZqYo9n-"
      }
    },
    {
      "cell_type": "code",
      "source": [],
      "metadata": {
        "id": "zR2W1Wulo_l3"
      },
      "execution_count": null,
      "outputs": []
    },
    {
      "cell_type": "markdown",
      "source": [
        "5. Optional: Write a decorator that adds a rate-limiter to a function, so that it can only be called a certain amount of times per minute"
      ],
      "metadata": {
        "id": "bipUFggSo_9Q"
      }
    },
    {
      "cell_type": "code",
      "source": [],
      "metadata": {
        "id": "vuDR6NvdpAoR"
      },
      "execution_count": null,
      "outputs": []
    }
  ]
}