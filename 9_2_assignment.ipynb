{
  "cells": [
    {
      "cell_type": "markdown",
      "metadata": {
        "id": "view-in-github",
        "colab_type": "text"
      },
      "source": [
        "<a href=\"https://colab.research.google.com/github/yuiijie/assignment6.1/blob/main/9_2_assignment.ipynb\" target=\"_parent\"><img src=\"https://colab.research.google.com/assets/colab-badge.svg\" alt=\"Open In Colab\"/></a>"
      ]
    },
    {
      "cell_type": "markdown",
      "metadata": {
        "id": "oY7M_WqQy7zz"
      },
      "source": [
        "# Assignment 9.2\n",
        "\n",
        "> Replace all TODOs with your code. Do not change any other code."
      ]
    },
    {
      "cell_type": "code",
      "execution_count": 2,
      "metadata": {
        "id": "mnm_mM7I9Xx0"
      },
      "outputs": [],
      "source": [
        "# Do not edit this cell\n",
        "\n",
        "from typing import List"
      ]
    },
    {
      "cell_type": "code",
      "source": [
        "import math"
      ],
      "metadata": {
        "id": "o1XntL0HPnRm"
      },
      "execution_count": 4,
      "outputs": []
    },
    {
      "cell_type": "markdown",
      "metadata": {
        "id": "Jz8SYjAz0N8D"
      },
      "source": [
        "## Descriptive statistics\n",
        "\n",
        "In this assignment, we will write the functions to calculate the basic statistics from scratch, not using numpy."
      ]
    },
    {
      "cell_type": "markdown",
      "metadata": {
        "id": "IHwd1Zzby7z1"
      },
      "source": [
        "### Task 1\n",
        "\n",
        "Let's start simple: write a function `mean` that calculates the average of the list.\n",
        "\n",
        "$$\\mu = \\frac{{\\sum_{i=1}^n x_i}}{{n}}$$"
      ]
    },
    {
      "cell_type": "code",
      "execution_count": 3,
      "metadata": {
        "id": "UfB0dnXHy7z2",
        "tags": [
          "task_1"
        ]
      },
      "outputs": [],
      "source": [
        "def mean(li: List[float]) -> float:\n",
        "    total = 0\n",
        "    count = 0\n",
        "    for i in li:\n",
        "      total += i\n",
        "      count += 1\n",
        "    mean = total / count\n",
        "    return mean\n",
        "\n",
        "\n",
        "assert mean([1., 2., 3.]) == 2.\n",
        "assert mean([1., 1., 2., 0.]) == 1."
      ]
    },
    {
      "cell_type": "markdown",
      "metadata": {
        "id": "lL-ELM-Ay7z2"
      },
      "source": [
        "### Task 2\n",
        "\n",
        "Now let's calculate variance (dispersion). You may use the `mean` function implemented before.\n",
        "\n",
        "$$V = \\frac{{\\sum_{i=1}^n (x_i - \\mu)^2}}{{n}}$$"
      ]
    },
    {
      "cell_type": "code",
      "execution_count": 20,
      "metadata": {
        "id": "cibiSsjry7z3",
        "tags": [
          "task_2"
        ]
      },
      "outputs": [],
      "source": [
        "def variance(li: List[float]) -> float:\n",
        "  avg = mean(li)\n",
        "  diff = []\n",
        "  for i in li:\n",
        "    var = (i - avg) ** 2\n",
        "    diff.append(var)\n",
        "  variance = sum(diff)  / (len(li))\n",
        "\n",
        "  return variance\n",
        "\n",
        "\n",
        "assert variance([1., 1., 1.]) == 0.\n",
        "assert variance([1., 2., 3., 4.]) == 1.25"
      ]
    },
    {
      "cell_type": "markdown",
      "metadata": {
        "id": "YSAUJe1u9XyM"
      },
      "source": [
        "### Task 3\n",
        "\n",
        "The standard deviation is easy once you get the variance:\n",
        "\n",
        "$$\\sigma = \\sqrt{V}$$"
      ]
    },
    {
      "cell_type": "code",
      "execution_count": 21,
      "metadata": {
        "tags": [
          "task_3"
        ],
        "id": "8cr3iHPR9XyO"
      },
      "outputs": [],
      "source": [
        "def std(li: List[float]) -> float:\n",
        "    return math.sqrt(variance(li))\n",
        "\n",
        "\n",
        "assert std([1., 1., 1.]) == 0.\n",
        "assert std([1., 2., 3., 4.]) == 1.25**0.5"
      ]
    },
    {
      "cell_type": "markdown",
      "metadata": {
        "id": "2I481Gkj9XyR"
      },
      "source": [
        "### Task 4\n",
        "\n",
        "**Median**\n",
        "\n",
        "The median is the middle value in a sorted dataset. If the dataset has an odd number of values, the median is the value at the center. If the dataset has an even number of values, the median is the average of the two middle values."
      ]
    },
    {
      "cell_type": "code",
      "execution_count": 22,
      "metadata": {
        "tags": [
          "task_4"
        ],
        "id": "0BEoTR119XyT"
      },
      "outputs": [],
      "source": [
        "def median(li: List[float]) -> float:\n",
        "  li = sorted(li)\n",
        "  if not li:\n",
        "    return \"The list is empty\"\n",
        "  if len(li) % 2 == 0:\n",
        "    middle_index1 = len(li) // 2 - 1\n",
        "    middle_index2 = len(li) // 2\n",
        "    median = (li[middle_index1] + li[middle_index2]) / 2\n",
        "  elif len(li) % 2 != 0:\n",
        "    middle_index = len(li) // 2\n",
        "    median = li[middle_index]\n",
        "  return median\n",
        "\n",
        "assert median([1., 1., 1.]) == 1.\n",
        "assert median([1., 4., 3., 2.]) == 2.5"
      ]
    },
    {
      "cell_type": "markdown",
      "metadata": {
        "id": "5DzFkKwx0VI5"
      },
      "source": [
        "## Measure performance\n",
        "\n",
        "Sometimes, apart from theoretical, algorithmic complexity, it's a good idea to compare the runtime of two algorithms empirically, i.e., run the code many times and time it.\n",
        "\n",
        "In Python's standard library, we have [timeit](https://docs.python.org/3/library/timeit.html) module that does exactly that.\n",
        "\n",
        "Let's compare the runtime of your implementations and numpy. Use the provided setup code:"
      ]
    },
    {
      "cell_type": "code",
      "execution_count": 33,
      "metadata": {
        "id": "wlNX3Jyz9XyV"
      },
      "outputs": [],
      "source": [
        "# generate data for tests\n",
        "setup = '''\n",
        "import random\n",
        "import numpy as np\n",
        "\n",
        "arr = np.random.rand(10_000) * 100\n",
        "li = [random.random() * 100 for _ in range(10_000)]\n",
        "'''\n",
        "\n",
        "# pass your function to timeit module\n",
        "funcs = {\n",
        "    'mean': mean,\n",
        "    'variance': variance,\n",
        "    'std': std,\n",
        "    'median': median,\n",
        "}"
      ]
    },
    {
      "cell_type": "markdown",
      "metadata": {
        "id": "nP0LlORsy7z4"
      },
      "source": [
        "### Task 5\n",
        "\n",
        "Complete Python statements to compare your functions to numpy. Use `li` for your function and `arr` for numpy functions."
      ]
    },
    {
      "cell_type": "code",
      "execution_count": 34,
      "metadata": {
        "id": "RiIm_kUSy7z4",
        "tags": [
          "task_5"
        ]
      },
      "outputs": [],
      "source": [
        "stmt_mean_custom = 'mean(li)'\n",
        "stmt_mean_np = 'np.mean(arr)'\n",
        "\n",
        "stmt_var_custom = 'variance(li)'\n",
        "stmt_var_np = 'np.var(arr)'\n",
        "\n",
        "stmt_std_custom = 'std(li)'\n",
        "stmt_std_np = 'np.std(arr)'\n",
        "\n",
        "stmt_median_custom = 'median(li)'\n",
        "stmt_median_np = 'np.median(arr)'"
      ]
    },
    {
      "cell_type": "markdown",
      "metadata": {
        "id": "hU1yDEnzy7z4"
      },
      "source": [
        "### Task 6\n",
        "\n",
        "Measure average exec time of your statements with `timeit` module. As your submission, fill out the table with results (rounded to 2 decimal places)"
      ]
    },
    {
      "cell_type": "code",
      "execution_count": 39,
      "metadata": {
        "id": "8sOSsdKiy7z4",
        "tags": [
          "task_6"
        ],
        "colab": {
          "base_uri": "https://localhost:8080/"
        },
        "outputId": "e69cccc5-5d04-40f5-87bc-3dda0dd405bd"
      },
      "outputs": [
        {
          "output_type": "stream",
          "name": "stdout",
          "text": [
            "mean | Custom: 4.67s | NumPy: 0.09s\n",
            "variance | Custom: 19.68s | NumPy: 0.35s\n",
            "std | Custom: 18.46s | NumPy: 0.50s\n",
            "median | Custom: 18.32s | NumPy: 1.47s\n"
          ]
        }
      ],
      "source": [
        "import timeit\n",
        "\n",
        "stmt_pairs = [\n",
        "    ('mean', 'mean(li)', 'np.mean(arr)'),\n",
        "    ('variance', 'variance(li)', 'np.var(arr)'),\n",
        "    ('std', 'std(li)', 'np.std(arr)'),\n",
        "    ('median', 'median(li)', 'np.median(arr)')\n",
        "]\n",
        "\n",
        "# Run and print timings\n",
        "for label, custom_stmt, np_stmt in stmt_pairs:\n",
        "    custom_time = timeit.timeit(stmt=custom_stmt, setup=setup, globals=funcs, number=10_000)\n",
        "    np_time = timeit.timeit(stmt=np_stmt, setup=setup, globals=funcs, number=10_000)\n",
        "    print(f'{label} | Custom: {custom_time:.2f}s | NumPy: {np_time:.2f}s')"
      ]
    },
    {
      "cell_type": "markdown",
      "metadata": {
        "id": "NbbRIcyqy7z4"
      },
      "source": [
        "Time per 10000 executions, secs\n",
        "\n",
        "| Func       | Custom | Numpy |\n",
        "| ---------- | ------ | ----- |\n",
        "| mean       |        |       |\n",
        "| var        |        |       |\n",
        "| std        |        |       |\n",
        "| median     |        |       |"
      ]
    }
  ],
  "metadata": {
    "colab": {
      "provenance": [],
      "toc_visible": true,
      "include_colab_link": true
    },
    "kernelspec": {
      "display_name": "venv",
      "language": "python",
      "name": "python3"
    },
    "language_info": {
      "codemirror_mode": {
        "name": "ipython",
        "version": 3
      },
      "file_extension": ".py",
      "mimetype": "text/x-python",
      "name": "python",
      "nbconvert_exporter": "python",
      "pygments_lexer": "ipython3",
      "version": "3.9.6"
    },
    "orig_nbformat": 4
  },
  "nbformat": 4,
  "nbformat_minor": 0
}